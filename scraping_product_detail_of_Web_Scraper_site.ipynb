{
  "nbformat": 4,
  "nbformat_minor": 0,
  "metadata": {
    "colab": {
      "provenance": [],
      "toc_visible": true,
      "authorship_tag": "ABX9TyME+OsZdIsyZA8U7ky3nWZH",
      "include_colab_link": true
    },
    "kernelspec": {
      "name": "python3",
      "display_name": "Python 3"
    },
    "language_info": {
      "name": "python"
    }
  },
  "cells": [
    {
      "cell_type": "markdown",
      "metadata": {
        "id": "view-in-github",
        "colab_type": "text"
      },
      "source": [
        "<a href=\"https://colab.research.google.com/github/vikasvishwakarma364/Analysis-of-stock/blob/main/scraping_product_detail_of_Web_Scraper_site.ipynb\" target=\"_parent\"><img src=\"https://colab.research.google.com/assets/colab-badge.svg\" alt=\"Open In Colab\"/></a>"
      ]
    },
    {
      "cell_type": "code",
      "execution_count": 1,
      "metadata": {
        "colab": {
          "base_uri": "https://localhost:8080/"
        },
        "id": "fdw54ftQqeDD",
        "outputId": "828487a9-2592-423b-bbc1-94d80c0a9bb1"
      },
      "outputs": [
        {
          "output_type": "stream",
          "name": "stdout",
          "text": [
            "Requirement already satisfied: BeautifulSoup4 in /usr/local/lib/python3.10/dist-packages (4.11.2)\n",
            "Requirement already satisfied: soupsieve>1.2 in /usr/local/lib/python3.10/dist-packages (from BeautifulSoup4) (2.5)\n"
          ]
        }
      ],
      "source": [
        "!pip install BeautifulSoup4"
      ]
    },
    {
      "cell_type": "code",
      "source": [
        "from bs4 import BeautifulSoup\n",
        "import requests\n",
        "import pandas as pd"
      ],
      "metadata": {
        "id": "AgtSKBdkqfSp"
      },
      "execution_count": 33,
      "outputs": []
    },
    {
      "cell_type": "code",
      "source": [
        "url = \"https://www.webscraper.io/test-sites/e-commerce/allinone/phones/touch\""
      ],
      "metadata": {
        "id": "3dBPuk0VqhBT"
      },
      "execution_count": 34,
      "outputs": []
    },
    {
      "cell_type": "code",
      "source": [
        "r = requests.get(url)"
      ],
      "metadata": {
        "id": "a2iVZpu1qjCH"
      },
      "execution_count": 35,
      "outputs": []
    },
    {
      "cell_type": "code",
      "source": [
        "soup = BeautifulSoup(r.text,\"lxml\")"
      ],
      "metadata": {
        "id": "Z5BFUVjOqk-A"
      },
      "execution_count": 36,
      "outputs": []
    },
    {
      "cell_type": "code",
      "source": [
        "name = soup.find_all(\"a\", class_=\"title\")\n",
        "name"
      ],
      "metadata": {
        "id": "Ogx1CnSmqr9s",
        "colab": {
          "base_uri": "https://localhost:8080/"
        },
        "outputId": "adbaaf97-de07-4660-a4b1-24e9bad6f204"
      },
      "execution_count": 37,
      "outputs": [
        {
          "output_type": "execute_result",
          "data": {
            "text/plain": [
              "[<a class=\"title\" href=\"/test-sites/e-commerce/allinone/product/486\" title=\"Nokia 123\">Nokia 123</a>,\n",
              " <a class=\"title\" href=\"/test-sites/e-commerce/allinone/product/487\" title=\"LG Optimus\">LG Optimus</a>,\n",
              " <a class=\"title\" href=\"/test-sites/e-commerce/allinone/product/488\" title=\"Samsung Galaxy\">Samsung Galaxy</a>,\n",
              " <a class=\"title\" href=\"/test-sites/e-commerce/allinone/product/489\" title=\"Nokia X\">Nokia X</a>,\n",
              " <a class=\"title\" href=\"/test-sites/e-commerce/allinone/product/490\" title=\"Sony Xperia\">Sony Xperia</a>,\n",
              " <a class=\"title\" href=\"/test-sites/e-commerce/allinone/product/491\" title=\"Ubuntu Edge\">Ubuntu Edge</a>,\n",
              " <a class=\"title\" href=\"/test-sites/e-commerce/allinone/product/492\" title=\"Iphone\">Iphone</a>,\n",
              " <a class=\"title\" href=\"/test-sites/e-commerce/allinone/product/493\" title=\"Iphone\">Iphone</a>,\n",
              " <a class=\"title\" href=\"/test-sites/e-commerce/allinone/product/494\" title=\"Iphone\">Iphone</a>]"
            ]
          },
          "metadata": {},
          "execution_count": 37
        }
      ]
    },
    {
      "cell_type": "code",
      "source": [
        "product_name = []\n",
        "\n",
        "for i in name:\n",
        "  name = i.text\n",
        "  product_name.append(name)\n",
        "\n",
        "print(product_name)"
      ],
      "metadata": {
        "colab": {
          "base_uri": "https://localhost:8080/"
        },
        "id": "C8wz_-Ucrd8b",
        "outputId": "0ef5f5d3-bf33-4643-e745-641968f171c2"
      },
      "execution_count": 38,
      "outputs": [
        {
          "output_type": "stream",
          "name": "stdout",
          "text": [
            "['Nokia 123', 'LG Optimus', 'Samsung Galaxy', 'Nokia X', 'Sony Xperia', 'Ubuntu Edge', 'Iphone', 'Iphone', 'Iphone']\n"
          ]
        }
      ]
    },
    {
      "cell_type": "markdown",
      "source": [
        "**Scraping price**"
      ],
      "metadata": {
        "id": "emklt2eZxpUh"
      }
    },
    {
      "cell_type": "code",
      "source": [
        "price = soup.find_all(\"h4\", class_=\"float-end price card-title pull-right\")"
      ],
      "metadata": {
        "id": "tUeYKHD9s_sK"
      },
      "execution_count": 39,
      "outputs": []
    },
    {
      "cell_type": "code",
      "source": [
        "price_list = []\n",
        "for i in price:\n",
        "  price = i.text\n",
        "  price_list.append(price)\n",
        "\n",
        "price_list"
      ],
      "metadata": {
        "colab": {
          "base_uri": "https://localhost:8080/"
        },
        "id": "O_oTBrujujeP",
        "outputId": "a1ceaf52-4f27-4d12-cbae-e948e601e98e"
      },
      "execution_count": 40,
      "outputs": [
        {
          "output_type": "execute_result",
          "data": {
            "text/plain": [
              "['$24.99',\n",
              " '$57.99',\n",
              " '$93.99',\n",
              " '$109.99',\n",
              " '$118.99',\n",
              " '$499.99',\n",
              " '$899.99',\n",
              " '$899.99',\n",
              " '$899.99']"
            ]
          },
          "metadata": {},
          "execution_count": 40
        }
      ]
    },
    {
      "cell_type": "code",
      "source": [
        "description = soup.find_all(\"p\", class_=\"description card-text\")"
      ],
      "metadata": {
        "id": "XRf4M-mVu3LQ"
      },
      "execution_count": 41,
      "outputs": []
    },
    {
      "cell_type": "markdown",
      "source": [
        "**Scraping description**"
      ],
      "metadata": {
        "id": "UmVMxNCaxeNz"
      }
    },
    {
      "cell_type": "code",
      "source": [
        "description_list = []\n",
        "for i in description:\n",
        "  description = i.text\n",
        "  description_list.append(description)\n",
        "\n",
        "print(description_list)"
      ],
      "metadata": {
        "colab": {
          "base_uri": "https://localhost:8080/"
        },
        "id": "Rz-Guo6avIcf",
        "outputId": "bb28910c-284c-4100-9f98-77e07159594a"
      },
      "execution_count": 42,
      "outputs": [
        {
          "output_type": "stream",
          "name": "stdout",
          "text": [
            "['7 day battery', '3.2\" screen', '5 mpx. Android 5.0', 'Andoid, Jolla dualboot', 'GPS, waterproof', 'Sapphire glass', 'White', 'Silver', 'Black']\n"
          ]
        }
      ]
    },
    {
      "cell_type": "markdown",
      "source": [
        "**Scraping Views**"
      ],
      "metadata": {
        "id": "VB8wjx0pxUzt"
      }
    },
    {
      "cell_type": "code",
      "source": [
        "view = soup.find_all(\"p\", class_=\"float-end review-count\")"
      ],
      "metadata": {
        "id": "vo_yUBNcvhHI"
      },
      "execution_count": 43,
      "outputs": []
    },
    {
      "cell_type": "code",
      "source": [
        "view_list = []\n",
        "for i in view:\n",
        "  view = i.text\n",
        "  view_list.append(view)\n",
        "\n",
        "print(view_list)"
      ],
      "metadata": {
        "colab": {
          "base_uri": "https://localhost:8080/"
        },
        "id": "JoBobw0Pv133",
        "outputId": "6f04402f-423a-4f52-ccf3-ad2549811ac8"
      },
      "execution_count": 44,
      "outputs": [
        {
          "output_type": "stream",
          "name": "stdout",
          "text": [
            "['11 reviews', '11 reviews', '3 reviews', '4 reviews', '6 reviews', '2 reviews', '10 reviews', '8 reviews', '1 reviews']\n"
          ]
        }
      ]
    },
    {
      "cell_type": "markdown",
      "source": [
        "**Creating Dataframe**"
      ],
      "metadata": {
        "id": "OWldYqHCw_af"
      }
    },
    {
      "cell_type": "code",
      "source": [
        "df = pd.DataFrame({\"Product Name\":product_name,\n",
        "                   \"Prices\":price_list,\n",
        "                   \"Description\":description_list,\n",
        "                   \"View\":view_list})\n",
        "print(df)"
      ],
      "metadata": {
        "colab": {
          "base_uri": "https://localhost:8080/"
        },
        "id": "VFQQDUpgwF4k",
        "outputId": "1974bb1e-9437-4634-ceec-4512fd0e90f3"
      },
      "execution_count": 46,
      "outputs": [
        {
          "output_type": "stream",
          "name": "stdout",
          "text": [
            "     Product Name   Prices             Description        View\n",
            "0       Nokia 123   $24.99           7 day battery  11 reviews\n",
            "1      LG Optimus   $57.99             3.2\" screen  11 reviews\n",
            "2  Samsung Galaxy   $93.99      5 mpx. Android 5.0   3 reviews\n",
            "3         Nokia X  $109.99  Andoid, Jolla dualboot   4 reviews\n",
            "4     Sony Xperia  $118.99         GPS, waterproof   6 reviews\n",
            "5     Ubuntu Edge  $499.99          Sapphire glass   2 reviews\n",
            "6          Iphone  $899.99                   White  10 reviews\n",
            "7          Iphone  $899.99                  Silver   8 reviews\n",
            "8          Iphone  $899.99                   Black   1 reviews\n"
          ]
        }
      ]
    },
    {
      "cell_type": "markdown",
      "source": [
        "**store in csv file**"
      ],
      "metadata": {
        "id": "T2W_XEZ8xtwU"
      }
    },
    {
      "cell_type": "code",
      "source": [
        "df.to_csv(\"product_details.csv\")"
      ],
      "metadata": {
        "id": "PVo9lUQew5vD"
      },
      "execution_count": 48,
      "outputs": []
    },
    {
      "cell_type": "code",
      "source": [],
      "metadata": {
        "id": "KDy9GKLdx6MQ"
      },
      "execution_count": null,
      "outputs": []
    }
  ]
}